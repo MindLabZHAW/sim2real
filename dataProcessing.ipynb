{
 "cells": [
  {
   "cell_type": "code",
   "execution_count": 1,
   "metadata": {},
   "outputs": [],
   "source": [
    "import pickle\n",
    "import pandas as pd"
   ]
  },
  {
   "cell_type": "code",
   "execution_count": 2,
   "metadata": {},
   "outputs": [
    {
     "name": "stdout",
     "output_type": "stream",
     "text": [
      "torch.Size([783, 9, 3])\n",
      "(783,)\n"
     ]
    },
    {
     "data": {
      "text/plain": [
       "tensor([[  0.0000,   0.0000,   0.0000],\n",
       "        [  0.0000,   0.0000,   0.0000],\n",
       "        [  0.0000,   0.0000,   0.0000],\n",
       "        [  0.0000,   0.0000,   0.0000],\n",
       "        [  0.0000,   0.0000,   0.0000],\n",
       "        [  0.0000,   0.0000,   0.0000],\n",
       "        [  0.0000,   0.0000,   0.0000],\n",
       "        [  0.0000,   0.0000,   0.0000],\n",
       "        [-23.6806,  -0.1289,   0.2636]])"
      ]
     },
     "execution_count": 2,
     "metadata": {},
     "output_type": "execute_result"
    }
   ],
   "source": [
    "dataPath = '/home/mindlab/myProjects/sim_to_real/simulation/DATA/data.pickle'\n",
    "with open(dataPath, 'rb') as f:\n",
    "    x = pickle.load(f)\n",
    "\n",
    "print(x['contact'].shape)\n",
    "print(x['time'].shape)\n",
    "x['contact']= x['contact'].cpu()\n",
    "x['contact'][80]"
   ]
  },
  {
   "cell_type": "code",
   "execution_count": null,
   "metadata": {},
   "outputs": [],
   "source": []
  }
 ],
 "metadata": {
  "kernelspec": {
   "display_name": "rlgpu",
   "language": "python",
   "name": "python3"
  },
  "language_info": {
   "codemirror_mode": {
    "name": "ipython",
    "version": 3
   },
   "file_extension": ".py",
   "mimetype": "text/x-python",
   "name": "python",
   "nbconvert_exporter": "python",
   "pygments_lexer": "ipython3",
   "version": "3.6.9"
  },
  "orig_nbformat": 4
 },
 "nbformat": 4,
 "nbformat_minor": 2
}
